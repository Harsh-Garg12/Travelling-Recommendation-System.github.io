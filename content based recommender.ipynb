{
 "cells": [
  {
   "cell_type": "code",
   "execution_count": null,
   "id": "151b2e46",
   "metadata": {},
   "outputs": [],
   "source": [
    "import numpy as np\n",
    "import pandas as pd\n",
    "import re"
   ]
  },
  {
   "cell_type": "code",
   "execution_count": null,
   "id": "07b5852a",
   "metadata": {},
   "outputs": [],
   "source": [
    "places = pd.read_csv('Review_db.csv')"
   ]
  },
  {
   "cell_type": "code",
   "execution_count": null,
   "id": "f932f19e",
   "metadata": {},
   "outputs": [],
   "source": [
    "places.shape"
   ]
  },
  {
   "cell_type": "code",
   "execution_count": null,
   "id": "62f55346",
   "metadata": {},
   "outputs": [],
   "source": [
    "places.head()"
   ]
  },
  {
   "cell_type": "code",
   "execution_count": null,
   "id": "17d729ed",
   "metadata": {},
   "outputs": [],
   "source": [
    "places.duplicated().sum()"
   ]
  },
  {
   "cell_type": "markdown",
   "id": "0386bad0",
   "metadata": {},
   "source": [
    "# Data Pre-Processing "
   ]
  },
  {
   "cell_type": "code",
   "execution_count": null,
   "id": "81223504",
   "metadata": {},
   "outputs": [],
   "source": [
    "places = places.drop_duplicates()"
   ]
  },
  {
   "cell_type": "code",
   "execution_count": null,
   "id": "7e205b6a",
   "metadata": {},
   "outputs": [],
   "source": [
    "places.drop(columns='Name', inplace=True)"
   ]
  },
  {
   "cell_type": "code",
   "execution_count": null,
   "id": "82438e47",
   "metadata": {},
   "outputs": [],
   "source": [
    "places.drop(columns='Date', inplace=True)"
   ]
  },
  {
   "cell_type": "code",
   "execution_count": null,
   "id": "7ffafcb2",
   "metadata": {},
   "outputs": [],
   "source": [
    "places.duplicated(subset=['City', 'Place']).sum()"
   ]
  },
  {
   "cell_type": "code",
   "execution_count": null,
   "id": "87890153",
   "metadata": {},
   "outputs": [],
   "source": [
    "places[places['City']=='Aamby Valley City']"
   ]
  },
  {
   "cell_type": "code",
   "execution_count": null,
   "id": "88014ef0",
   "metadata": {},
   "outputs": [],
   "source": [
    "places['Rating'].max()"
   ]
  },
  {
   "cell_type": "code",
   "execution_count": null,
   "id": "0763e34f",
   "metadata": {},
   "outputs": [],
   "source": [
    "places[places['City'] == 'Aamby Valley City']['Raw_Review'][0]"
   ]
  },
  {
   "cell_type": "code",
   "execution_count": null,
   "id": "b4847a4f",
   "metadata": {},
   "outputs": [],
   "source": [
    "places[places['City'] == 'Aamby Valley City']['Review'][0]"
   ]
  },
  {
   "cell_type": "code",
   "execution_count": null,
   "id": "80f341ac",
   "metadata": {},
   "outputs": [],
   "source": [
    "places.drop(columns='Raw_Review', inplace=True)"
   ]
  },
  {
   "cell_type": "code",
   "execution_count": null,
   "id": "ae243c5b",
   "metadata": {
    "scrolled": false
   },
   "outputs": [],
   "source": [
    "places"
   ]
  },
  {
   "cell_type": "code",
   "execution_count": null,
   "id": "523f572f",
   "metadata": {},
   "outputs": [],
   "source": [
    "new_places = pd.DataFrame()"
   ]
  },
  {
   "cell_type": "code",
   "execution_count": null,
   "id": "0229ba3b",
   "metadata": {
    "scrolled": false
   },
   "outputs": [],
   "source": [
    "places[places['City'] == 'Kanpur']['Place'].unique()"
   ]
  },
  {
   "cell_type": "code",
   "execution_count": null,
   "id": "216ff65a",
   "metadata": {},
   "outputs": [],
   "source": [
    "new_places[['City', 'Place']] = places[['City', 'Place']].drop_duplicates()"
   ]
  },
  {
   "cell_type": "code",
   "execution_count": null,
   "id": "8bc741f2",
   "metadata": {},
   "outputs": [],
   "source": [
    "new_places"
   ]
  },
  {
   "cell_type": "code",
   "execution_count": null,
   "id": "a82080d0",
   "metadata": {},
   "outputs": [],
   "source": [
    "new_places.values"
   ]
  },
  {
   "cell_type": "code",
   "execution_count": null,
   "id": "1532e06f",
   "metadata": {},
   "outputs": [],
   "source": [
    "places[places['City']=='Agra'][places['Place']=='Taj Mahal']['Rating'].count()"
   ]
  },
  {
   "cell_type": "code",
   "execution_count": null,
   "id": "4ff98b45",
   "metadata": {},
   "outputs": [],
   "source": [
    "new_places[new_places['City']=='Agra'][new_places['Place'] == 'Taj Mahal']['Review'].values[0]"
   ]
  },
  {
   "cell_type": "code",
   "execution_count": null,
   "id": "75e96255",
   "metadata": {},
   "outputs": [],
   "source": [
    "text = new_places[new_places['Place'] == 'Safed Akhara']['Review'].values[0]\n",
    "text"
   ]
  },
  {
   "cell_type": "code",
   "execution_count": null,
   "id": "7a9cf951",
   "metadata": {},
   "outputs": [],
   "source": [
    "text1 = ''.join([i if ord(i) < 128 else '' for i in text])\n",
    "text1"
   ]
  },
  {
   "cell_type": "code",
   "execution_count": null,
   "id": "5ae99d5c",
   "metadata": {},
   "outputs": [],
   "source": [
    "re.sub(' +',' ',text1)"
   ]
  },
  {
   "cell_type": "code",
   "execution_count": null,
   "id": "2445ed6b",
   "metadata": {
    "scrolled": true
   },
   "outputs": [],
   "source": [
    "rating = []\n",
    "for val in new_places.values:\n",
    "    rating.append(places[places['City']==val[0]][places['Place']==val[1]]['Rating'].mean())"
   ]
  },
  {
   "cell_type": "code",
   "execution_count": null,
   "id": "5645c588",
   "metadata": {},
   "outputs": [],
   "source": [
    "review = []\n",
    "for val in new_places.values:\n",
    "    combine = lambda x: \"\".join(x)\n",
    "    review.append(combine(places[places['City']==val[0]][places['Place']==val[1]]['Review'].values))"
   ]
  },
  {
   "cell_type": "code",
   "execution_count": null,
   "id": "982e6152",
   "metadata": {},
   "outputs": [],
   "source": [
    "count = []\n",
    "for val in new_places.values:\n",
    "    count.append(places[places['City']==val[0]][places['Place']==val[1]]['Rating'].count())"
   ]
  },
  {
   "cell_type": "code",
   "execution_count": null,
   "id": "5d7582c8",
   "metadata": {},
   "outputs": [],
   "source": [
    "new_places['Review'] = review"
   ]
  },
  {
   "cell_type": "code",
   "execution_count": null,
   "id": "acd17d39",
   "metadata": {},
   "outputs": [],
   "source": [
    "new_places['Rating'] = rating"
   ]
  },
  {
   "cell_type": "code",
   "execution_count": null,
   "id": "bb8530b7",
   "metadata": {},
   "outputs": [],
   "source": [
    "new_places['Count'] = count"
   ]
  },
  {
   "cell_type": "markdown",
   "id": "034189dd",
   "metadata": {},
   "source": [
    "<h2>Function to remove non ascii character from text</h2>"
   ]
  },
  {
   "cell_type": "code",
   "execution_count": null,
   "id": "2fc4f6fd",
   "metadata": {},
   "outputs": [],
   "source": [
    "def remove_non_ascii(text):\n",
    "    text1 = ''.join([i if ord(i) < 128 else '' for i in text])\n",
    "    return re.sub(' +',' ',text1)"
   ]
  },
  {
   "cell_type": "code",
   "execution_count": null,
   "id": "68d28a5c",
   "metadata": {},
   "outputs": [],
   "source": [
    "new_places['Review']=new_places['Review'].apply(lambda x: remove_non_ascii(x))"
   ]
  },
  {
   "cell_type": "code",
   "execution_count": null,
   "id": "7fe2825c",
   "metadata": {},
   "outputs": [],
   "source": [
    "new_places.to_csv('places.csv', header=True, index=True)"
   ]
  },
  {
   "cell_type": "code",
   "execution_count": null,
   "id": "e854305a",
   "metadata": {},
   "outputs": [],
   "source": [
    "new_places.shape"
   ]
  },
  {
   "cell_type": "code",
   "execution_count": null,
   "id": "c8bcae1c",
   "metadata": {},
   "outputs": [],
   "source": [
    "new_places['Review'][0]"
   ]
  },
  {
   "cell_type": "code",
   "execution_count": null,
   "id": "22667724",
   "metadata": {},
   "outputs": [],
   "source": [
    "# remove repetitive words\n",
    "new_places['Review'] = new_places['Review'].apply(lambda x:' '.join(set(x.split())))"
   ]
  },
  {
   "cell_type": "code",
   "execution_count": null,
   "id": "8409c425",
   "metadata": {},
   "outputs": [],
   "source": [
    "new_places['Review'][0]"
   ]
  },
  {
   "cell_type": "code",
   "execution_count": null,
   "id": "361bdec7",
   "metadata": {},
   "outputs": [],
   "source": [
    "total_review = ''\n",
    "for str in df['Review'].values:\n",
    "    total_review += str"
   ]
  },
  {
   "cell_type": "code",
   "execution_count": null,
   "id": "858f43ea",
   "metadata": {},
   "outputs": [],
   "source": [
    "len(total_review)"
   ]
  },
  {
   "cell_type": "code",
   "execution_count": null,
   "id": "cd143d49",
   "metadata": {},
   "outputs": [],
   "source": [
    "len(set(total_review.split()))"
   ]
  },
  {
   "cell_type": "code",
   "execution_count": null,
   "id": "dd140620",
   "metadata": {},
   "outputs": [],
   "source": [
    "from nltk.stem.porter import PorterStemmer\n",
    "ps = PorterStemmer()"
   ]
  },
  {
   "cell_type": "code",
   "execution_count": null,
   "id": "5dbf66e1",
   "metadata": {},
   "outputs": [],
   "source": [
    "def stem(text):\n",
    "    y = []\n",
    "    \n",
    "    for i in text.split():\n",
    "        y.append(ps.stem(i))\n",
    "    \n",
    "    return \" \".join(y)"
   ]
  },
  {
   "cell_type": "code",
   "execution_count": null,
   "id": "472e2abe",
   "metadata": {},
   "outputs": [],
   "source": [
    "new_places['Review'] = new_places['Review'].apply(stem)"
   ]
  },
  {
   "cell_type": "code",
   "execution_count": null,
   "id": "0af4da95",
   "metadata": {},
   "outputs": [],
   "source": [
    "new_places['Review'][0]"
   ]
  },
  {
   "cell_type": "markdown",
   "id": "f873ad8e",
   "metadata": {},
   "source": [
    "<h2>Function to remove underscore from the string</h2>"
   ]
  },
  {
   "cell_type": "code",
   "execution_count": null,
   "id": "cb1fc761",
   "metadata": {},
   "outputs": [],
   "source": [
    "def remove_underscore(text):\n",
    "    return text.replace('_', ' ')"
   ]
  },
  {
   "cell_type": "code",
   "execution_count": null,
   "id": "abdf31e4",
   "metadata": {},
   "outputs": [],
   "source": [
    "new_places['Review'] = new_places['Review'].apply(remove_underscore)"
   ]
  },
  {
   "cell_type": "code",
   "execution_count": null,
   "id": "56b98125",
   "metadata": {},
   "outputs": [],
   "source": [
    "new_places.to_csv('places.csv', header=True, index=False)"
   ]
  },
  {
   "cell_type": "code",
   "execution_count": null,
   "id": "5f616d4c",
   "metadata": {},
   "outputs": [],
   "source": [
    "df = pd.read_csv('places.csv')"
   ]
  },
  {
   "cell_type": "code",
   "execution_count": null,
   "id": "e0064fb8",
   "metadata": {},
   "outputs": [],
   "source": [
    "df.head()"
   ]
  },
  {
   "cell_type": "code",
   "execution_count": null,
   "id": "6c6ba0ce",
   "metadata": {},
   "outputs": [],
   "source": [
    "df[df['City']=='Agra'][df['Place']=='Taj Mahal']"
   ]
  },
  {
   "cell_type": "code",
   "execution_count": null,
   "id": "99842dd5",
   "metadata": {},
   "outputs": [],
   "source": [
    "np.array(df['Review'].values)"
   ]
  },
  {
   "cell_type": "markdown",
   "id": "b163e461",
   "metadata": {},
   "source": [
    "# TF-IDF vectorization and cosine similarity"
   ]
  },
  {
   "cell_type": "code",
   "execution_count": null,
   "id": "0a61b8cf",
   "metadata": {},
   "outputs": [],
   "source": [
    "from sklearn.feature_extraction.text import TfidfVectorizer\n",
    "from sklearn.metrics.pairwise import linear_kernel"
   ]
  },
  {
   "cell_type": "code",
   "execution_count": null,
   "id": "c8e6351e",
   "metadata": {},
   "outputs": [],
   "source": [
    "vectorizer = TfidfVectorizer(analyzer='word', stop_words='english')"
   ]
  },
  {
   "cell_type": "code",
   "execution_count": null,
   "id": "f8464823",
   "metadata": {},
   "outputs": [],
   "source": [
    "tfid_matrix = vectorizer.fit_transform(df['Review'])"
   ]
  },
  {
   "cell_type": "code",
   "execution_count": null,
   "id": "fc889d22",
   "metadata": {},
   "outputs": [],
   "source": [
    "vectorizer.get_feature_names()"
   ]
  },
  {
   "cell_type": "code",
   "execution_count": null,
   "id": "dc2f8ef1",
   "metadata": {},
   "outputs": [],
   "source": [
    "tfid_matrix.shape"
   ]
  },
  {
   "cell_type": "code",
   "execution_count": null,
   "id": "6027fd4a",
   "metadata": {},
   "outputs": [],
   "source": [
    "tfid_matrix[0]"
   ]
  },
  {
   "cell_type": "code",
   "execution_count": null,
   "id": "130e2f57",
   "metadata": {},
   "outputs": [],
   "source": [
    "cosine_similarity1 = linear_kernel(tfid_matrix[0:5000, :], tfid_matrix) "
   ]
  },
  {
   "cell_type": "code",
   "execution_count": null,
   "id": "0c5d4345",
   "metadata": {},
   "outputs": [],
   "source": [
    "cosine_similarity2 = linear_kernel(tfid_matrix[5000:10000, :], tfid_matrix) "
   ]
  },
  {
   "cell_type": "code",
   "execution_count": null,
   "id": "35b40764",
   "metadata": {},
   "outputs": [],
   "source": [
    "cosine_similarity3 = linear_kernel(tfid_matrix[10000:15239, :], tfid_matrix) "
   ]
  },
  {
   "cell_type": "code",
   "execution_count": null,
   "id": "d598c1cb",
   "metadata": {},
   "outputs": [],
   "source": [
    "cosine_similarity = linear_kernel(tfid_matrix, tfid_matrix) "
   ]
  },
  {
   "cell_type": "code",
   "execution_count": null,
   "id": "5fedafb9",
   "metadata": {},
   "outputs": [],
   "source": [
    "cosine_similarity3.shape"
   ]
  },
  {
   "cell_type": "markdown",
   "id": "e18a80b7",
   "metadata": {},
   "source": [
    "# Recommender Function"
   ]
  },
  {
   "cell_type": "code",
   "execution_count": null,
   "id": "2dace526",
   "metadata": {},
   "outputs": [],
   "source": [
    "def recommend(City, Place):\n",
    "    index = df[df['City'] == City][df['Place']==Place].index[0]\n",
    "    if(index<5000):\n",
    "        distances = sorted(list(enumerate(cosine_similarity1[index])), reverse=True,key = lambda x: x[1])\n",
    "    elif(index<10000):\n",
    "        distances = sorted(list(enumerate(cosine_similarity2[5000-index])), reverse=True,key = lambda x: x[1])\n",
    "    else:\n",
    "        distances = sorted(list(enumerate(cosine_similarity3[10000-index])), reverse=True,key = lambda x: x[1])        \n",
    "    for i in distances[1:6]:\n",
    "        print(df.iloc[i[0]].City,\", \", df.iloc[i[0]].Place)"
   ]
  },
  {
   "cell_type": "code",
   "execution_count": null,
   "id": "73558828",
   "metadata": {},
   "outputs": [],
   "source": [
    "recommend('Agra', 'Taj Mahal')"
   ]
  },
  {
   "cell_type": "markdown",
   "id": "4c42ea30",
   "metadata": {},
   "source": [
    "# Downloading the pickle file"
   ]
  },
  {
   "cell_type": "code",
   "execution_count": null,
   "id": "4e9a9c77",
   "metadata": {},
   "outputs": [],
   "source": [
    "import gzip, pickle, pickletools"
   ]
  },
  {
   "cell_type": "code",
   "execution_count": null,
   "id": "aa3ab5ce",
   "metadata": {},
   "outputs": [],
   "source": [
    "pickle.dump(cosine_similarity, open(\"cosine_similarity.pkl\", \"wb\"))"
   ]
  },
  {
   "cell_type": "code",
   "execution_count": null,
   "id": "f3b71f07",
   "metadata": {},
   "outputs": [],
   "source": [
    "pickle.dump(cosine_similarity1, open(\"cosine_similarity1.pkl\", \"wb\"))"
   ]
  },
  {
   "cell_type": "code",
   "execution_count": null,
   "id": "dc01f497",
   "metadata": {},
   "outputs": [],
   "source": [
    "pickle.dump(cosine_similarity2, open(\"cosine_similarity2.pkl\", \"wb\"))"
   ]
  },
  {
   "cell_type": "code",
   "execution_count": null,
   "id": "dad2896e",
   "metadata": {},
   "outputs": [],
   "source": [
    "pickle.dump(cosine_similarity3, open(\"cosine_similarity3.pkl\", \"wb\"))"
   ]
  },
  {
   "cell_type": "code",
   "execution_count": null,
   "id": "ea27bcf3",
   "metadata": {},
   "outputs": [],
   "source": [
    "pickle.dump(df, open(\"travel.pkl\", \"wb\"))"
   ]
  },
  {
   "cell_type": "code",
   "execution_count": null,
   "id": "dc899449",
   "metadata": {},
   "outputs": [],
   "source": [
    "def download_pickle(filepath, data):\n",
    "    with gzip.open(filepath, \"wb\") as f:\n",
    "        pickled = pickle.dumps(data)\n",
    "        optimized_pickle = pickletools.optimize(pickled)\n",
    "        f.write(optimized_pickle)"
   ]
  },
  {
   "cell_type": "code",
   "execution_count": null,
   "id": "6c6cd27d",
   "metadata": {},
   "outputs": [],
   "source": [
    "download_pickle(\"cosine_similarity1.pkl\", cosine_similarity1)"
   ]
  },
  {
   "cell_type": "code",
   "execution_count": null,
   "id": "84b055f6",
   "metadata": {},
   "outputs": [],
   "source": [
    "download_pickle(\"cosine_similarity2.pkl\", cosine_similarity2)"
   ]
  },
  {
   "cell_type": "code",
   "execution_count": null,
   "id": "4162b1e5",
   "metadata": {},
   "outputs": [],
   "source": [
    "download_pickle(\"cosine_similarity3.pkl\", cosine_similarity3)"
   ]
  },
  {
   "cell_type": "code",
   "execution_count": null,
   "id": "354b3eaa",
   "metadata": {},
   "outputs": [],
   "source": [
    "download_pickle(\"travel.pkl\", df)"
   ]
  }
 ],
 "metadata": {
  "kernelspec": {
   "display_name": "Python 3 (ipykernel)",
   "language": "python",
   "name": "python3"
  },
  "language_info": {
   "codemirror_mode": {
    "name": "ipython",
    "version": 3
   },
   "file_extension": ".py",
   "mimetype": "text/x-python",
   "name": "python",
   "nbconvert_exporter": "python",
   "pygments_lexer": "ipython3",
   "version": "3.9.12"
  }
 },
 "nbformat": 4,
 "nbformat_minor": 5
}
